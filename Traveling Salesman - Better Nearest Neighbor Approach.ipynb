{
 "cells": [
  {
   "cell_type": "code",
   "execution_count": 1,
   "metadata": {
    "collapsed": false
   },
   "outputs": [],
   "source": [
    "import random\n",
    "import matplotlib as mpl\n",
    "import matplotlib.pyplot as plt\n",
    "import profile\n",
    "import time\n",
    "\n",
    "from profile import run\n",
    "from itertools import permutations\n",
    "\n",
    "%matplotlib inline"
   ]
  },
  {
   "cell_type": "markdown",
   "metadata": {},
   "source": [
    "##### Nearest Neighbor Algorithm"
   ]
  },
  {
   "cell_type": "markdown",
   "metadata": {},
   "source": [
    "In our first attempt at the nearest neighbor algorithm, we found that NN was able to provide us with an optimized solution for the traveling salesman problem in milliseconds for up to 100 cities (and < 1 second for 1000 cities), but didn't necessarily find the most optimal solution. In small subsets of cities, the solution found by Nearest Neighbors was often the optimal, but not as the number of cities are scaled up. The results also varied in their effectiveness when we re-ran the algorithm multiple times for one set of cities.\n",
    "\n",
    "The primary reason for this is we selected a random city as our starting point for the NN algorithm. We masked the randomness slightly by setting a seed value in our algorithm. However, the fact remained that our algorithm's performance depended on the city it chose at random from a set.\n",
    "\n",
    "In this implementation, we improve the NN algorithm by running the algorithm N times for a set of N cities - once with each city as the starting point. In this way, we run the stimulation from every starting point, but still limit the overall number of computations to N\\*(N-1)."
   ]
  },
  {
   "cell_type": "markdown",
   "metadata": {},
   "source": [
    "In order to measure the effectiveness of this approach, we'll need to re-implement the standard NN algorithm first."
   ]
  },
  {
   "cell_type": "code",
   "execution_count": 2,
   "metadata": {
    "collapsed": false
   },
   "outputs": [],
   "source": [
    "def benchmark(func):\n",
    "    _cache = dict()\n",
    "    def inner(*args):\n",
    "        try:\n",
    "            return _cache[args][0]\n",
    "        except:\n",
    "            _cache[args] = func(*args), route_length(func(*args))\n",
    "            return _cache[args][0]\n",
    "    inner.__dict__ = func.__dict__\n",
    "    inner.__name__ = func.__name__\n",
    "    inner.__str__ = func.__str__\n",
    "    inner.__doc__ = func.__doc__\n",
    "    inner._cache = _cache\n",
    "    return inner"
   ]
  },
  {
   "cell_type": "code",
   "execution_count": 3,
   "metadata": {
    "collapsed": false
   },
   "outputs": [],
   "source": [
    "def make_cities(n, max_height=600, max_width=400, seed=1000):\n",
    "    \"\"\"Returns list of n cities (points) within a *max_height* by *max_width* \n",
    "    grid.\"\"\"\n",
    "    random.seed(n * seed)\n",
    "    return [complex(random.randrange(max_height), random.randrange(max_width))\n",
    "            for i in range(n)]\n",
    "\n",
    "\n",
    "def plot_route(route):\n",
    "    \"\"\"Given a route, plots the route end to end.\"\"\"\n",
    "    plot_lines(list(route) + [route[0]])\n",
    "    \n",
    "    \n",
    "def plot_lines(points, style='gs-', display=True):\n",
    "    \"\"\"Given a set of points, plots the points.\"\"\"\n",
    "    plt.plot([X(p) for p in points], [Y(p) for p in points], style)\n",
    "    plt.axis('scaled'); plt.axis('off')\n",
    "    if display: print('Route distance:', route_length(points))\n",
    "        \n",
    "        \n",
    "def X(point): return point.real\n",
    "\n",
    "\n",
    "def Y(point): return point.imag\n",
    "\n",
    "\n",
    "def distance(A, B):\n",
    "    \"\"\"Returns the distance between two points.\"\"\"\n",
    "    return abs(A - B)\n",
    "\n",
    "\n",
    "def route_length(route):\n",
    "    \"\"\"Returns the total length of a route.\"\"\"\n",
    "    return sum(distance(route[i], route[i-1]) for i, n in enumerate(route))\n",
    "\n",
    "@benchmark\n",
    "def nearest_neighbor(n_cities, seed=1000):\n",
    "    \"\"\"Chooses a random point in a given set of cities, and chooses a route\n",
    "    by incrementally choosing the closest city to each point.\"\"\"\n",
    "    cities = make_cities(n_cities, seed=seed)\n",
    "    start = choose_random(cities)\n",
    "    route = [start]\n",
    "    cities.remove(start)\n",
    "    \n",
    "    for number_of_cities in range(len(cities)):\n",
    "        closest = closest_city(route[-1], cities)\n",
    "        route.append(closest)\n",
    "        cities.remove(closest)\n",
    "    \n",
    "    return route\n",
    "\n",
    "\n",
    "def choose_random(cities): return random.choice(cities)\n",
    "\n",
    "\n",
    "def closest_city(city, cities): \n",
    "    \"\"\"Returns the closest city in a set of cities.\"\"\"\n",
    "    return min(cities, key=lambda x: distance(x, city))"
   ]
  },
  {
   "cell_type": "code",
   "execution_count": 4,
   "metadata": {
    "collapsed": false
   },
   "outputs": [
    {
     "name": "stdout",
     "output_type": "stream",
     "text": [
      "('Route distance:', 1480.8188030586537)\n",
      "Wall time: 50 ms\n"
     ]
    },
    {
     "data": {
      "image/png": "[encoded data removed]",
      "text/plain": [
       "<matplotlib.figure.Figure at 0x3e3df60>"
      ]
     },
     "metadata": {},
     "output_type": "display_data"
    }
   ],
   "source": [
    "%time plot_route(nearest_neighbor(6))"
   ]
  },
  {
   "cell_type": "markdown",
   "metadata": {},
   "source": [
    "You'll notice I also added a *benchmark* decorator to the nearest neighbor function. This will allow us to compare the performance of NN to our Better NN function, which we'll define later."
   ]
  },
  {
   "cell_type": "code",
   "execution_count": 5,
   "metadata": {
    "collapsed": false
   },
   "outputs": [
    {
     "name": "stdout",
     "output_type": "stream",
     "text": [
      "('Route distance:', 1200.2526165917152)\n",
      "Wall time: 50 ms\n"
     ]
    },
    {
     "data": {
      "image/png": "[encoded data removed]",
      "text/plain": [
       "<matplotlib.figure.Figure at 0x7680e10>"
      ]
     },
     "metadata": {},
     "output_type": "display_data"
    }
   ],
   "source": [
    "%time plot_route(nearest_neighbor(7))"
   ]
  },
  {
   "cell_type": "code",
   "execution_count": 6,
   "metadata": {
    "collapsed": false
   },
   "outputs": [
    {
     "name": "stdout",
     "output_type": "stream",
     "text": [
      "('Route distance:', 1424.4682505736164)\n",
      "Wall time: 66 ms\n"
     ]
    },
    {
     "data": {
      "image/png": "[encoded data removed]",
      "text/plain": [
       "<matplotlib.figure.Figure at 0x772e668>"
      ]
     },
     "metadata": {},
     "output_type": "display_data"
    }
   ],
   "source": [
    "%time plot_route(nearest_neighbor(8))"
   ]
  },
  {
   "cell_type": "code",
   "execution_count": 7,
   "metadata": {
    "collapsed": false
   },
   "outputs": [
    {
     "name": "stdout",
     "output_type": "stream",
     "text": [
      "('Route distance:', 1296.8202982138391)\n",
      "Wall time: 63 ms\n"
     ]
    },
    {
     "data": {
      "image/png": "[encoded data removed]",
      "text/plain": [
       "<matplotlib.figure.Figure at 0x772e908>"
      ]
     },
     "metadata": {},
     "output_type": "display_data"
    }
   ],
   "source": [
    "%time plot_route(nearest_neighbor(9))"
   ]
  },
  {
   "cell_type": "code",
   "execution_count": 8,
   "metadata": {
    "collapsed": false
   },
   "outputs": [
    {
     "name": "stdout",
     "output_type": "stream",
     "text": [
      "('Route distance:', 2142.2618013013025)\n",
      "Wall time: 74 ms\n"
     ]
    },
    {
     "data": {
      "image/png": "[encoded data removed]",
      "text/plain": [
       "<matplotlib.figure.Figure at 0x7c37240>"
      ]
     },
     "metadata": {},
     "output_type": "display_data"
    }
   ],
   "source": [
    "%time plot_route(nearest_neighbor(10))"
   ]
  },
  {
   "cell_type": "code",
   "execution_count": 9,
   "metadata": {
    "collapsed": false
   },
   "outputs": [
    {
     "name": "stdout",
     "output_type": "stream",
     "text": [
      "('Route distance:', 2178.1052176774724)\n",
      "Wall time: 61 ms\n"
     ]
    },
    {
     "data": {
      "image/png": "[encoded data removed]",
      "text/plain": [
       "<matplotlib.figure.Figure at 0x7f31828>"
      ]
     },
     "metadata": {},
     "output_type": "display_data"
    }
   ],
   "source": [
    "%time plot_route(nearest_neighbor(15))"
   ]
  },
  {
   "cell_type": "code",
   "execution_count": 10,
   "metadata": {
    "collapsed": false
   },
   "outputs": [
    {
     "name": "stdout",
     "output_type": "stream",
     "text": [
      "('Route distance:', 2036.3081358412514)\n",
      "Wall time: 100 ms\n"
     ]
    },
    {
     "data": {
      "image/png": "[encoded data removed]",
      "text/plain": [
       "<matplotlib.figure.Figure at 0x8416cf8>"
      ]
     },
     "metadata": {},
     "output_type": "display_data"
    }
   ],
   "source": [
    "%time plot_route(nearest_neighbor(20))"
   ]
  },
  {
   "cell_type": "code",
   "execution_count": 11,
   "metadata": {
    "collapsed": false
   },
   "outputs": [
    {
     "name": "stdout",
     "output_type": "stream",
     "text": [
      "('Route distance:', 2425.8539208384977)\n",
      "Wall time: 63 ms\n"
     ]
    },
    {
     "data": {
      "image/png": "[encoded data removed]",
      "text/plain": [
       "<matplotlib.figure.Figure at 0x814c160>"
      ]
     },
     "metadata": {},
     "output_type": "display_data"
    }
   ],
   "source": [
    "%time plot_route(nearest_neighbor(25))"
   ]
  },
  {
   "cell_type": "code",
   "execution_count": 12,
   "metadata": {
    "collapsed": false
   },
   "outputs": [
    {
     "data": {
      "text/plain": [
       "{6: 1480.8188030586539,\n",
       " 7: 1200.2526165917152,\n",
       " 8: 1424.4682505736164,\n",
       " 9: 1296.8202982138391,\n",
       " 10: 2142.261801301302,\n",
       " 15: 2178.1052176774724,\n",
       " 20: 2036.3081358412514,\n",
       " 25: 2425.8539208384973}"
      ]
     },
     "execution_count": 12,
     "metadata": {},
     "output_type": "execute_result"
    }
   ],
   "source": [
    "{k[0]: v[1]\n",
    " for k, v in nearest_neighbor._cache.items()}"
   ]
  },
  {
   "cell_type": "markdown",
   "metadata": {},
   "source": [
    "Now that we have a baseline, let's build out Better Nearest Neighbor algorithm and see if we can do better."
   ]
  },
  {
   "cell_type": "code",
   "execution_count": 13,
   "metadata": {
    "collapsed": true
   },
   "outputs": [],
   "source": [
    "@benchmark\n",
    "def better_nn(n_cities, seed=1000):\n",
    "    \"\"\"Creates a set of *n* cities. Choose each city one by one and runs the\n",
    "    nearest neighbor algorithm with that city as the start. In the end, returns\n",
    "    the tour with the shortest *tour_length*.\"\"\"\n",
    "    cities = make_cities(n_cities, seed=seed)\n",
    "    routes = [altered_nn(city, cities) for city in cities]\n",
    "    \n",
    "    return min(routes, key=route_length)\n",
    "    \n",
    "def altered_nn(city, cities):\n",
    "    \"\"\"Takes a start city and a list of cities, and returns a route implementing\n",
    "    the NN algorithm\"\"\"\n",
    "    cities = cities[::] # Make copy of cities\n",
    "    start = city\n",
    "    route = [start]\n",
    "    cities.remove(start)\n",
    "    \n",
    "    for number_of_cities in range(len(cities)):\n",
    "        closest = closest_city(route[-1], cities)\n",
    "        route.append(closest)\n",
    "        cities.remove(closest)\n",
    "    \n",
    "    return route"
   ]
  },
  {
   "cell_type": "code",
   "execution_count": 14,
   "metadata": {
    "collapsed": false
   },
   "outputs": [
    {
     "name": "stdout",
     "output_type": "stream",
     "text": [
      "('Route distance:', 1480.8188030586539)\n",
      "Wall time: 48 ms\n"
     ]
    },
    {
     "data": {
      "image/png": "[encoded data removed]",
      "text/plain": [
       "<matplotlib.figure.Figure at 0x814c3c8>"
      ]
     },
     "metadata": {},
     "output_type": "display_data"
    }
   ],
   "source": [
    "%time plot_route(better_nn(6))"
   ]
  },
  {
   "cell_type": "code",
   "execution_count": 15,
   "metadata": {
    "collapsed": false
   },
   "outputs": [
    {
     "name": "stdout",
     "output_type": "stream",
     "text": [
      "('Route distance:', 1181.29943528004)\n",
      "Wall time: 58 ms\n"
     ]
    },
    {
     "data": {
      "image/png": "[encoded data removed]",
      "text/plain": [
       "<matplotlib.figure.Figure at 0x7ebaa58>"
      ]
     },
     "metadata": {},
     "output_type": "display_data"
    }
   ],
   "source": [
    "%time plot_route(better_nn(7))"
   ]
  },
  {
   "cell_type": "code",
   "execution_count": 16,
   "metadata": {
    "collapsed": false
   },
   "outputs": [
    {
     "name": "stdout",
     "output_type": "stream",
     "text": [
      "('Route distance:', 1424.4682505736166)\n",
      "Wall time: 63 ms\n"
     ]
    },
    {
     "data": {
      "image/png": "[encoded data removed]",
      "text/plain": [
       "<matplotlib.figure.Figure at 0x79518d0>"
      ]
     },
     "metadata": {},
     "output_type": "display_data"
    }
   ],
   "source": [
    "%time plot_route(better_nn(8))"
   ]
  },
  {
   "cell_type": "code",
   "execution_count": 17,
   "metadata": {
    "collapsed": false
   },
   "outputs": [
    {
     "name": "stdout",
     "output_type": "stream",
     "text": [
      "('Route distance:', 1138.4327505783626)\n",
      "Wall time: 71 ms\n"
     ]
    },
    {
     "data": {
      "image/png": "[encoded data removed]",
      "text/plain": [
       "<matplotlib.figure.Figure at 0x7ed7978>"
      ]
     },
     "metadata": {},
     "output_type": "display_data"
    }
   ],
   "source": [
    "%time plot_route(better_nn(9))"
   ]
  },
  {
   "cell_type": "code",
   "execution_count": 18,
   "metadata": {
    "collapsed": false
   },
   "outputs": [
    {
     "name": "stdout",
     "output_type": "stream",
     "text": [
      "('Route distance:', 1785.8113286295422)\n",
      "Wall time: 69 ms\n"
     ]
    },
    {
     "data": {
      "image/png": "[encoded data removed]",
      "text/plain": [
       "<matplotlib.figure.Figure at 0x7ed73c8>"
      ]
     },
     "metadata": {},
     "output_type": "display_data"
    }
   ],
   "source": [
    "%time plot_route(better_nn(10))"
   ]
  },
  {
   "cell_type": "code",
   "execution_count": 19,
   "metadata": {
    "collapsed": false
   },
   "outputs": [
    {
     "name": "stdout",
     "output_type": "stream",
     "text": [
      "('Route distance:', 1946.1664350124045)\n",
      "Wall time: 171 ms\n"
     ]
    },
    {
     "data": {
      "image/png": "[encoded data removed]",
      "text/plain": [
       "<matplotlib.figure.Figure at 0x8357f60>"
      ]
     },
     "metadata": {},
     "output_type": "display_data"
    }
   ],
   "source": [
    "%time plot_route(better_nn(15))"
   ]
  },
  {
   "cell_type": "code",
   "execution_count": 20,
   "metadata": {
    "collapsed": false
   },
   "outputs": [
    {
     "name": "stdout",
     "output_type": "stream",
     "text": [
      "('Route distance:', 1838.1910848159425)\n",
      "Wall time: 168 ms\n"
     ]
    },
    {
     "data": {
      "image/png": "[encoded data removed]",
      "text/plain": [
       "<matplotlib.figure.Figure at 0x899a2e8>"
      ]
     },
     "metadata": {},
     "output_type": "display_data"
    }
   ],
   "source": [
    "%time plot_route(better_nn(20))"
   ]
  },
  {
   "cell_type": "code",
   "execution_count": 21,
   "metadata": {
    "collapsed": false
   },
   "outputs": [
    {
     "name": "stdout",
     "output_type": "stream",
     "text": [
      "('Route distance:', 2425.8539208384977)\n",
      "Wall time: 108 ms\n"
     ]
    },
    {
     "data": {
      "image/png": "[encoded data removed]",
      "text/plain": [
       "<matplotlib.figure.Figure at 0x8bb1ac8>"
      ]
     },
     "metadata": {},
     "output_type": "display_data"
    }
   ],
   "source": [
    "%time plot_route(better_nn(25))"
   ]
  },
  {
   "cell_type": "markdown",
   "metadata": {},
   "source": [
    "Vizually, these definitely look more optimal. Let's compare the benchmarked results."
   ]
  },
  {
   "cell_type": "code",
   "execution_count": 22,
   "metadata": {
    "collapsed": false
   },
   "outputs": [
    {
     "data": {
      "text/plain": [
       "{6: 1480.8188030586539,\n",
       " 7: 1200.2526165917152,\n",
       " 8: 1424.4682505736164,\n",
       " 9: 1296.8202982138391,\n",
       " 10: 2142.261801301302,\n",
       " 15: 2178.1052176774724,\n",
       " 20: 2036.3081358412514,\n",
       " 25: 2425.8539208384973}"
      ]
     },
     "execution_count": 22,
     "metadata": {},
     "output_type": "execute_result"
    }
   ],
   "source": [
    "{k[0]: v[1]\n",
    " for k, v in nearest_neighbor._cache.items()}"
   ]
  },
  {
   "cell_type": "code",
   "execution_count": 23,
   "metadata": {
    "collapsed": false
   },
   "outputs": [
    {
     "data": {
      "text/plain": [
       "{6: 1480.8188030586539,\n",
       " 7: 1181.29943528004,\n",
       " 8: 1424.4682505736164,\n",
       " 9: 1138.4327505783629,\n",
       " 10: 1785.8113286295422,\n",
       " 15: 1946.1664350124047,\n",
       " 20: 1838.1910848159425,\n",
       " 25: 2425.8539208384973}"
      ]
     },
     "execution_count": 23,
     "metadata": {},
     "output_type": "execute_result"
    }
   ],
   "source": [
    "{k[0]: v[1]\n",
    " for k, v in better_nn._cache.items()}"
   ]
  },
  {
   "cell_type": "code",
   "execution_count": 24,
   "metadata": {
    "collapsed": false
   },
   "outputs": [
    {
     "name": "stdout",
     "output_type": "stream",
     "text": [
      "N: Improvement\n"
     ]
    },
    {
     "data": {
      "text/plain": [
       "{6: 0.0,\n",
       " 7: 0.015790993537256753,\n",
       " 8: 0.0,\n",
       " 9: 0.12213530884242757,\n",
       " 10: 0.1663897813307582,\n",
       " 15: 0.10648649146177866,\n",
       " 20: 0.09729227494514804,\n",
       " 25: 0.0}"
      ]
     },
     "execution_count": 24,
     "metadata": {},
     "output_type": "execute_result"
    }
   ],
   "source": [
    "print('N: Improvement')\n",
    "{k[0]: (nearest_neighbor._cache[k][1] - better_nn._cache[k][1])/nearest_neighbor._cache[k][1]\n",
    " for k in nearest_neighbor._cache.keys()}"
   ]
  },
  {
   "cell_type": "markdown",
   "metadata": {},
   "source": [
    "Definitely some improvements between our original NN approach and the improved algorithm! A few things to stand out to me, however:\n",
    "\n",
    "1. It's not intuitively clear why we might gain an improvement in performance by changing our starting position\n",
    "2. There are still cases where the standard NN algorithm had no worst performance than our improved approach. We would expect this to happen in some small percentage of cases (1/N), but this occurred in 3 of our 8 trials. Were we just really lucky in our first approach or is this something we should look into?"
   ]
  },
  {
   "cell_type": "markdown",
   "metadata": {},
   "source": [
    "Let's start with the first point. In order to get a better grasp on *why* our improved NN algorithm performs better, let's alter our plotting function slightly."
   ]
  },
  {
   "cell_type": "code",
   "execution_count": 25,
   "metadata": {
    "collapsed": true
   },
   "outputs": [],
   "source": [
    "def labeled_plot(route):\n",
    "    \"\"\"Given a route, plots the route end to end.\"\"\"\n",
    "#     plot_lines([route[0]], 'rs')\n",
    "    for i, city in enumerate(route):\n",
    "        plt.text(X(city), Y(city), '  {}'.format(str(i)))\n",
    "    plot_lines(list(route)+[route[0]])"
   ]
  },
  {
   "cell_type": "code",
   "execution_count": 26,
   "metadata": {
    "collapsed": false
   },
   "outputs": [
    {
     "name": "stdout",
     "output_type": "stream",
     "text": [
      "('Route distance:', 1181.29943528004)\n"
     ]
    },
    {
     "data": {
      "image/png": "[encoded data removed]",
      "text/plain": [
       "<matplotlib.figure.Figure at 0x8de8208>"
      ]
     },
     "metadata": {},
     "output_type": "display_data"
    }
   ],
   "source": [
    "labeled_plot(better_nn(7))"
   ]
  },
  {
   "cell_type": "code",
   "execution_count": 27,
   "metadata": {
    "collapsed": false
   },
   "outputs": [
    {
     "name": "stdout",
     "output_type": "stream",
     "text": [
      "('Route distance:', 1200.2526165917152)\n"
     ]
    },
    {
     "data": {
      "image/png": "[encoded data removed]",
      "text/plain": [
       "<matplotlib.figure.Figure at 0x8ff0550>"
      ]
     },
     "metadata": {},
     "output_type": "display_data"
    }
   ],
   "source": [
    "labeled_plot(nearest_neighbor(7))"
   ]
  },
  {
   "cell_type": "markdown",
   "metadata": {},
   "source": [
    "Looking at the starting point of these two plots, it's much easier to see why the former outperformed the latter. Both start with a single point, and move through the route point by point by selecting the next closest city. The original NN algorithm, however, starts at the left-hand corner of the map, whereas the improved algorithm starts at the center."
   ]
  },
  {
   "cell_type": "markdown",
   "metadata": {},
   "source": [
    "As for the second point, let's re-run the analysis with a different seed value (to \"refresh\" the randomness of our point selection) and see if we come up with more intuitive results."
   ]
  },
  {
   "cell_type": "code",
   "execution_count": 28,
   "metadata": {
    "collapsed": false
   },
   "outputs": [],
   "source": [
    "nearest_neighbor._cache.clear()\n",
    "better_nn._cache.clear()\n",
    "\n",
    "for i in range(2, 26):\n",
    "    nearest_neighbor(i, 400)\n",
    "    better_nn(i, 400)"
   ]
  },
  {
   "cell_type": "code",
   "execution_count": 29,
   "metadata": {
    "collapsed": false
   },
   "outputs": [
    {
     "name": "stdout",
     "output_type": "stream",
     "text": [
      "N: Improvement\n"
     ]
    },
    {
     "data": {
      "text/plain": [
       "{2: 0.0,\n",
       " 3: 0.0,\n",
       " 4: 0.05180412413194134,\n",
       " 5: 0.0,\n",
       " 6: 0.0,\n",
       " 7: 0.0019225277618408548,\n",
       " 8: 0.2012218642652183,\n",
       " 9: 1.5157379606362702e-16,\n",
       " 10: 0.20120564912371747,\n",
       " 11: 0.00596102483472418,\n",
       " 12: 0.06386800568265975,\n",
       " 13: 0.006090733885616819,\n",
       " 14: 0.11330691624814518,\n",
       " 15: 0.22377347742591625,\n",
       " 16: 0.018099990135902837,\n",
       " 17: 0.01591829889799415,\n",
       " 18: 0.025832479644886802,\n",
       " 19: 0.2052381398609735,\n",
       " 20: 0.16757269136216776,\n",
       " 21: 0.09803695518649608,\n",
       " 22: 0.1031668951807593,\n",
       " 23: 0.10856590028927526,\n",
       " 24: 0.06857364810058013,\n",
       " 25: 0.1590540019410282}"
      ]
     },
     "execution_count": 29,
     "metadata": {},
     "output_type": "execute_result"
    }
   ],
   "source": [
    "print('N: Improvement')\n",
    "{k[0]: (nearest_neighbor._cache[k][1] - better_nn._cache[k][1])/nearest_neighbor._cache[k][1]\n",
    " for k in nearest_neighbor._cache.keys()}"
   ]
  },
  {
   "cell_type": "markdown",
   "metadata": {},
   "source": [
    "It looks like in the vast majority of cases the better_nn algorithm performed better than the original algorith, as we would intuitively assume."
   ]
  },
  {
   "cell_type": "markdown",
   "metadata": {},
   "source": [
    "###### How can we improve?"
   ]
  },
  {
   "cell_type": "markdown",
   "metadata": {},
   "source": [
    "Even running our NN algorithm once for every city in a set, we were still able to compute a solution in fractions of a secon. As a next step, we could program the algorithm to re-run NN but this time search through two-city starting points, rather than just iterating through each city individually. This would of course add more computation time to our problem, but would likely result in better solutions.\n",
    "\n",
    "In order to limit the number of times we run the algorithm, we could add logic to throw away starting points that are obviously not going to result in optimal solutions - maybe based on what the distance between the first two points we select. \n",
    "\n",
    "We could also run two separate branches of the nearest neighbor algorithm on a set of cities to come up with two optimal half-routes, and connect the two halves. This is essentially a <a href=\"https://en.wikipedia.org/wiki/Travelling_salesman_problem#Iterative_improvement\">k-opt</a> solution with k=2. For large sets of cities, we can take larger k's."
   ]
  },
  {
   "cell_type": "code",
   "execution_count": null,
   "metadata": {
    "collapsed": true
   },
   "outputs": [],
   "source": []
  }
 ],
 "metadata": {
  "kernelspec": {
   "display_name": "Python 2",
   "language": "python",
   "name": "python2"
  },
  "language_info": {
   "codemirror_mode": {
    "name": "ipython",
    "version": 2
   },
   "file_extension": ".py",
   "mimetype": "text/x-python",
   "name": "python",
   "nbconvert_exporter": "python",
   "pygments_lexer": "ipython2",
   "version": "2.7.11"
  }
 },
 "nbformat": 4,
 "nbformat_minor": 0
}
