{
 "cells": [
  {
   "cell_type": "code",
   "execution_count": 1,
   "metadata": {
    "collapsed": true
   },
   "outputs": [],
   "source": [
    "import random\n",
    "import matplotlib as mpl\n",
    "import matplotlib.pyplot as plt\n",
    "import profile\n",
    "import time\n",
    "\n",
    "from profile import run\n",
    "from itertools import permutations\n",
    "\n",
    "%matplotlib inline"
   ]
  },
  {
   "cell_type": "code",
   "execution_count": 2,
   "metadata": {
    "collapsed": true
   },
   "outputs": [],
   "source": [
    "def make_cities(n, max_height=600, max_width=400, seed=1000):\n",
    "    \"\"\"Returns list of n cities (points) within a *max_height* by *max_width* \n",
    "    grid.\"\"\"\n",
    "    random.seed(n * seed)\n",
    "    return [complex(random.randrange(max_height), random.randrange(max_width))\n",
    "            for i in range(n)]"
   ]
  },
  {
   "cell_type": "code",
   "execution_count": 3,
   "metadata": {
    "collapsed": true
   },
   "outputs": [],
   "source": [
    "def plot_route(route):\n",
    "    \"\"\"Given a route, plots the route end to end.\"\"\"\n",
    "    plot_lines(list(route) + [route[0]])"
   ]
  },
  {
   "cell_type": "code",
   "execution_count": 4,
   "metadata": {
    "collapsed": false
   },
   "outputs": [],
   "source": [
    "def plot_lines(points, style='gs-', display=True):\n",
    "    \"\"\"Given a set of points, plots the points.\"\"\"\n",
    "    plt.plot([X(p) for p in points], [Y(p) for p in points], style)\n",
    "    plt.axis('scaled'); plt.axis('off')\n",
    "    if display: print('Route distance:', route_length(points))"
   ]
  },
  {
   "cell_type": "code",
   "execution_count": 5,
   "metadata": {
    "collapsed": true
   },
   "outputs": [],
   "source": [
    "def X(point): return point.real\n",
    "def Y(point): return point.imag\n",
    "\n",
    "def distance(A, B):\n",
    "    \"\"\"Returns the distance between two points.\"\"\"\n",
    "    return abs(A - B)"
   ]
  },
  {
   "cell_type": "code",
   "execution_count": 6,
   "metadata": {
    "collapsed": true
   },
   "outputs": [],
   "source": [
    "def route_length(route):\n",
    "    \"\"\"Returns the total length of a route.\"\"\"\n",
    "    return sum(distance(route[i], route[i-1]) for i, n in enumerate(route))"
   ]
  },
  {
   "cell_type": "code",
   "execution_count": 7,
   "metadata": {
    "collapsed": true
   },
   "outputs": [],
   "source": [
    "cities_6 = make_cities(6)"
   ]
  },
  {
   "cell_type": "code",
   "execution_count": 8,
   "metadata": {
    "collapsed": false
   },
   "outputs": [
    {
     "name": "stdout",
     "output_type": "stream",
     "text": [
      "('Route distance:', 1739.1918969943874)\n"
     ]
    },
    {
     "data": {
      "image/png": "[encoded data removed]",
      "text/plain": [
       "<matplotlib.figure.Figure at 0x73472b0>"
      ]
     },
     "metadata": {},
     "output_type": "display_data"
    }
   ],
   "source": [
    "plot_lines(cities_6, 'gs')"
   ]
  },
  {
   "cell_type": "code",
   "execution_count": 9,
   "metadata": {
    "collapsed": false
   },
   "outputs": [
    {
     "name": "stdout",
     "output_type": "stream",
     "text": [
      "('Route distance:', 1739.1918969943877)\n"
     ]
    },
    {
     "data": {
      "image/png": "[encoded data removed]",
      "text/plain": [
       "<matplotlib.figure.Figure at 0x74f6518>"
      ]
     },
     "metadata": {},
     "output_type": "display_data"
    }
   ],
   "source": [
    "plot_route(cities_6)"
   ]
  },
  {
   "cell_type": "markdown",
   "metadata": {},
   "source": [
    "That obviously doesn't look like the most optimal solution. This makes sense as essentially we're still taking the random approach. Let's take the brute-force approach and determine the shortest route by enumerating all routes."
   ]
  },
  {
   "cell_type": "code",
   "execution_count": 10,
   "metadata": {
    "collapsed": true
   },
   "outputs": [],
   "source": [
    "def all_routes(points):\n",
    "    \"\"\"Given a set of points, returns all possible routes between points.\"\"\"\n",
    "    return [route for route in permutations(points, len(points))]"
   ]
  },
  {
   "cell_type": "code",
   "execution_count": 11,
   "metadata": {
    "collapsed": true
   },
   "outputs": [],
   "source": [
    "def shortest_route(routes, using=route_length):\n",
    "    \"\"\"Returns the shortest route list of routes, using *key* function (default route_length).\"\"\"\n",
    "    return min(routes, key=route_length)"
   ]
  },
  {
   "cell_type": "code",
   "execution_count": 12,
   "metadata": {
    "collapsed": false
   },
   "outputs": [
    {
     "name": "stdout",
     "output_type": "stream",
     "text": [
      "('Route distance:', 1480.8188030586539)\n"
     ]
    },
    {
     "data": {
      "image/png": "[encoded data removed]",
      "text/plain": [
       "<matplotlib.figure.Figure at 0x77918d0>"
      ]
     },
     "metadata": {},
     "output_type": "display_data"
    }
   ],
   "source": [
    "plot_route(shortest_route(all_routes(cities_6)))"
   ]
  },
  {
   "cell_type": "markdown",
   "metadata": {},
   "source": [
    "Much better! Let's see what timing looks like for the above."
   ]
  },
  {
   "cell_type": "code",
   "execution_count": 13,
   "metadata": {
    "collapsed": false
   },
   "outputs": [
    {
     "name": "stdout",
     "output_type": "stream",
     "text": [
      "('Route distance:', 1480.8188030586539)\n",
      "Wall time: 85 ms\n"
     ]
    },
    {
     "data": {
      "image/png": "[encoded data removed]",
      "text/plain": [
       "<matplotlib.figure.Figure at 0x7ac9ba8>"
      ]
     },
     "metadata": {},
     "output_type": "display_data"
    }
   ],
   "source": [
    "%time plot_route(shortest_route(all_routes(cities_6)))"
   ]
  },
  {
   "cell_type": "markdown",
   "metadata": {
    "collapsed": true
   },
   "source": [
    "Let's see how we do with more cities"
   ]
  },
  {
   "cell_type": "code",
   "execution_count": 14,
   "metadata": {
    "collapsed": false
   },
   "outputs": [
    {
     "name": "stdout",
     "output_type": "stream",
     "text": [
      "('Route distance:', 1181.29943528004)\n",
      "Wall time: 138 ms\n"
     ]
    },
    {
     "data": {
      "image/png": "[encoded data removed]",
      "text/plain": [
       "<matplotlib.figure.Figure at 0x7ac9128>"
      ]
     },
     "metadata": {},
     "output_type": "display_data"
    }
   ],
   "source": [
    "%time plot_route(shortest_route(all_routes(make_cities(7))))"
   ]
  },
  {
   "cell_type": "code",
   "execution_count": 15,
   "metadata": {
    "collapsed": false
   },
   "outputs": [
    {
     "name": "stdout",
     "output_type": "stream",
     "text": [
      "('Route distance:', 1408.0148097692647)\n",
      "Wall time: 315 ms\n"
     ]
    },
    {
     "data": {
      "image/png": "[encoded data removed]",
      "text/plain": [
       "<matplotlib.figure.Figure at 0x649fdd8>"
      ]
     },
     "metadata": {},
     "output_type": "display_data"
    }
   ],
   "source": [
    "%time plot_route(shortest_route(all_routes(make_cities(8))))"
   ]
  },
  {
   "cell_type": "code",
   "execution_count": 16,
   "metadata": {
    "collapsed": false
   },
   "outputs": [
    {
     "name": "stdout",
     "output_type": "stream",
     "text": [
      "('Route distance:', 1095.5809004566104)\n",
      "Wall time: 1.78 s\n"
     ]
    },
    {
     "data": {
      "image/png": "[encoded data removed]",
      "text/plain": [
       "<matplotlib.figure.Figure at 0x7b2b940>"
      ]
     },
     "metadata": {},
     "output_type": "display_data"
    }
   ],
   "source": [
    "%time plot_route(shortest_route(all_routes(make_cities(9))))"
   ]
  },
  {
   "cell_type": "code",
   "execution_count": 18,
   "metadata": {
    "collapsed": false
   },
   "outputs": [
    {
     "name": "stdout",
     "output_type": "stream",
     "text": [
      "('Route distance:', 1726.9011255761563)\n",
      "Wall time: 18.6 s\n"
     ]
    },
    {
     "data": {
      "image/png": "[encoded data removed]",
      "text/plain": [
       "<matplotlib.figure.Figure at 0x73feeb8>"
      ]
     },
     "metadata": {},
     "output_type": "display_data"
    }
   ],
   "source": [
    "%time plot_route(shortest_route(all_routes(make_cities(10))))"
   ]
  },
  {
   "cell_type": "markdown",
   "metadata": {},
   "source": [
    "The amount of time using the brute force approach is directly proportional to the number of cities (O[n!]). Let's see how long it would take our algorithm to solve for larger sets of cities."
   ]
  },
  {
   "cell_type": "code",
   "execution_count": 34,
   "metadata": {
    "collapsed": true
   },
   "outputs": [],
   "source": [
    "def predict(n):\n",
    "    \"\"\"Predicts time to brute force TS problem for :n: cities.\"\"\"\n",
    "    fact_n = reduce(lambda x, y: x*y, range(1, n+1))\n",
    "    fact_10 = reduce(lambda x, y: x*y, range(1, 11))\n",
    "    time_for_10_cities = 18.6\n",
    "    return fact_n / fact_10 * time_for_10_cities"
   ]
  },
  {
   "cell_type": "code",
   "execution_count": 40,
   "metadata": {
    "collapsed": false
   },
   "outputs": [
    {
     "data": {
      "text/plain": [
       "{'10 Cities takes 18.6 seconds',\n",
       " '11 Cities takes 204.6 seconds',\n",
       " '12 Cities takes 2455.2 seconds',\n",
       " '13 Cities takes 31917.6 seconds',\n",
       " '14 Cities takes 446846.4 seconds',\n",
       " '15 Cities takes 6702696.0 seconds'}"
      ]
     },
     "execution_count": 40,
     "metadata": {},
     "output_type": "execute_result"
    }
   ],
   "source": [
    "{r'{} Cities takes {} seconds'.format(n, predict(n))\n",
    " for n in range(10,16)}"
   ]
  },
  {
   "cell_type": "markdown",
   "metadata": {},
   "source": [
    "15 cities would take an an estimated 77 days to brute force, let alone 25 or 50 or 100 cities. Obviously we need a better solution.\n",
    "\n",
    "Next, we'll try an approximation algorithm to solve the TSP problem more efficiently."
   ]
  }
 ],
 "metadata": {
  "kernelspec": {
   "display_name": "Python 2",
   "language": "python",
   "name": "python2"
  },
  "language_info": {
   "codemirror_mode": {
    "name": "ipython",
    "version": 2
   },
   "file_extension": ".py",
   "mimetype": "text/x-python",
   "name": "python",
   "nbconvert_exporter": "python",
   "pygments_lexer": "ipython2",
   "version": "2.7.11"
  }
 },
 "nbformat": 4,
 "nbformat_minor": 0
}
