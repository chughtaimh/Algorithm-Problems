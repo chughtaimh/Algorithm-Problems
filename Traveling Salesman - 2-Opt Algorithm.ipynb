{
 "cells": [
  {
   "cell_type": "code",
   "execution_count": 1,
   "metadata": {
    "collapsed": false
   },
   "outputs": [],
   "source": [
    "from __future__ import division\n",
    "\n",
    "import random\n",
    "import matplotlib as mpl\n",
    "import matplotlib.pyplot as plt\n",
    "import decorator\n",
    "\n",
    "from itertools import permutations\n",
    "\n",
    "%matplotlib inline"
   ]
  },
  {
   "cell_type": "markdown",
   "metadata": {},
   "source": [
    "##### 2-Opt Algorithm"
   ]
  },
  {
   "cell_type": "markdown",
   "metadata": {},
   "source": [
    "In our first two attempts at the Traveling Salesman Problem, we employed the nearest neighbor algorith, a class of greedy algorithms in which we pick a starting point and sequentially choose cities based on their distance to the current city. This approach had the benefit of allowing us to tackle very large sets of cities (1000 city set in under 1 second), but was limited by the fact that local optimality (choosing the closest city to the current one) did not necessarily result in the globally optimal solution. \n",
    "\n",
    "One reason for this is we were choosing our starting point at random, and we found that choosing the right starting point made an impact on the effectiveness of the solution uncovered using nearest neighbors. In order to work around this limitation, we built a better nearest neighbor solution that re-ran the algorithm N times for N cities, alternating starting points until we found the most effective solution."
   ]
  },
  {
   "cell_type": "markdown",
   "metadata": {},
   "source": [
    "Even with our *better_nn* function, however, there were still cases where the algorithm missed the optimal global solution by maximizing for the best local solution. Consider the following case where we ran *better_nn* on a set of 25 cities:\n",
    "\n",
    "<img src=\"https://github.com/chughtaimh/Traveling-Salesman-Algorithm-Problem/blob/master/Better%20NN%2025%20Cities2.jpg?raw=true\", width=450, height=300></img>"
   ]
  },
  {
   "cell_type": "markdown",
   "metadata": {},
   "source": [
    "In the above plot, our nearest neighbor algorithm chose at least two non-optimal solutions, which manifested themselves as the crossed $\\overline{20:21}$ and $\\overline{18:19}$ lines, as well as the crossed $\\overline{13:14}$ and $\\overline{15:16}$ lines."
   ]
  },
  {
   "cell_type": "markdown",
   "metadata": {},
   "source": [
    "In our next iteration, we'll aim to correct non-optimal choices made by our nearest neighbor algorithm which result in crossed lines by using a <a href=\"https://en.wikipedia.org/wiki/2-opt\">2-Opt</a> algorithm. The 2-Opt algorithm essentially seeks to find crossed lines that occur as a result of poor optimization choices and uncrosses them by switching their order. (The link to Wikipedia has a great example.)\n",
    "\n",
    "In this case, the 2-Opt algorithm would identify a non-otimal decision at lines $\\overline{20:21}$ and $\\overline{18:19}$, remove both of those lines from our tour, and replace them with the more optimal $\\overline{21:19}$ and $\\overline{20:18}$ lines.\n",
    "\n",
    "<img src=\"https://github.com/chughtaimh/Traveling-Salesman-Algorithm-Problem/blob/master/Better%20NN%2025%20Fixed.jpg?raw=true\", width=450, height=400>"
   ]
  },
  {
   "cell_type": "markdown",
   "metadata": {},
   "source": [
    "In order to accomplish this, though, we'll need to figure out a way to identify if two lines are crossed."
   ]
  },
  {
   "cell_type": "markdown",
   "metadata": {},
   "source": [
    "In general, we can find the intersection between two lines by setting their equations equal to one another:\n",
    "\n",
    "y = m$_1$x + b$_1$\n",
    "\n",
    "y = m$_2$x + b$_2$\n",
    "\n",
    "m$_1$x + b$_1$ = m$_2$x + b$_2$\n",
    "\n",
    "m$_1$x = m$_2$x + b$_2$ - b$_2$\n",
    "\n",
    "(m$_1$ - m$_2$)x = b$_2$ - b$_2$\n",
    "\n",
    "x = (b$_2$ - b$_2$) $\\div$ (m$_1$ - m$_2$)"
   ]
  },
  {
   "cell_type": "code",
   "execution_count": 2,
   "metadata": {
    "collapsed": true
   },
   "outputs": [],
   "source": [
    "def slope(p1, p2):\n",
    "    \"\"\"Returns slope of a line connecting two points.\"\"\"\n",
    "    try:\n",
    "        return (Y(p2) - Y(p1)) / (X(p2) - X(p1))\n",
    "    except ZeroDivisionError:\n",
    "        return 0 # Not technically correct, but useful for now\n",
    "\n",
    "def y_intercept(slope, point):\n",
    "    \"\"\"Given a point and a slope, returns the y-intercept of the line.\"\"\"\n",
    "    return Y(point) - (slope * X(point))"
   ]
  },
  {
   "cell_type": "markdown",
   "metadata": {},
   "source": [
    "Line segments are slightly more interesting, however, since they can finite and only intersect if the potential intersection lies on both segments. "
   ]
  },
  {
   "cell_type": "code",
   "execution_count": 3,
   "metadata": {
    "collapsed": false
   },
   "outputs": [],
   "source": [
    "def intersect(A, B, width=600, height=400):\n",
    "    \"\"\"Returns true if lines :A: and :B: intercept within the plot area.\"\"\"\n",
    "    m1, m2 = slope(*A), slope(*B)\n",
    "    b1, b2 = y_intercept(m1, A[0]), y_intercept(m2, B[0])\n",
    "    \n",
    "    if m1 == m2 and b1 != b2: return False #Parallel, never meet\n",
    "    elif m1 == m2: return True #Parallel, colinear\n",
    "    else:\n",
    "        x = (b2 - b1) / (m1 - m2)\n",
    "        y = m1 * x + b1\n",
    "        return on_line(A, complex(x, y)) and on_line(B, complex(x, y))\n",
    "    \n",
    "def on_line(line, point):\n",
    "    \"\"\"Returns True if a point exists on a line segment\"\"\"\n",
    "    xs = round(X(point),8) > min(map(X, line)) and round(X(point), 8) < max(map(X, line))\n",
    "    ys = round(Y(point), 8) > min(map(Y, line)) and round(Y(point), 8) < max(map(Y, line))\n",
    "    return xs and ys"
   ]
  },
  {
   "cell_type": "markdown",
   "metadata": {},
   "source": [
    "Lets also recreate our plotting methods."
   ]
  },
  {
   "cell_type": "code",
   "execution_count": 4,
   "metadata": {
    "collapsed": false
   },
   "outputs": [],
   "source": [
    "def make_cities(n, max_height=600, max_width=400, seed=1000):\n",
    "    \"\"\"Returns list of n cities (points) within a *max_height* by *max_width* \n",
    "    grid.\"\"\"\n",
    "    random.seed(n * seed)\n",
    "    return [complex(random.randrange(max_height), random.randrange(max_width))\n",
    "            for i in range(n)]\n",
    "\n",
    "\n",
    "def plot_route(route, style='gs-'):\n",
    "    \"\"\"Given a route, plots the route end to end.\"\"\"\n",
    "    plot_lines(list(route) + [route[0]], style)\n",
    "    \n",
    "    \n",
    "def plot_lines(points, style='gs-', display=True):\n",
    "    \"\"\"Given a set of points, plots the points.\"\"\"\n",
    "    plt.plot([X(p) for p in points], [Y(p) for p in points], style)\n",
    "    plt.axis('scaled'); plt.axis('off')\n",
    "    if display: print('Route distance:', route_length(points))\n",
    "        \n",
    "        \n",
    "def X(point): return point.real\n",
    "\n",
    "\n",
    "def Y(point): return point.imag\n",
    "\n",
    "\n",
    "def distance(A, B):\n",
    "    \"\"\"Returns the distance between two points.\"\"\"\n",
    "    return abs(A - B)\n",
    "\n",
    "\n",
    "def route_length(route):\n",
    "    \"\"\"Returns the total length of a route.\"\"\"\n",
    "    return sum(distance(route[i], route[i-1]) for i, n in enumerate(route))\n",
    "\n",
    "\n",
    "def better_nn(n_cities=0, cities=[], seed=1000):\n",
    "    \"\"\"Creates a set of *n* cities. Choose each city one by one and runs the\n",
    "    nearest neighbor algorithm with that city as the start. In the end, returns\n",
    "    the tour with the shortest *tour_length*.\"\"\"\n",
    "    cities = cities[::] or make_cities(n_cities)\n",
    "    routes = [altered_nn(city, cities) for city in cities]\n",
    "    \n",
    "    return min(routes, key=route_length)\n",
    "    \n",
    "\n",
    "def altered_nn(city, cities):\n",
    "    \"\"\"Takes a start city and a list of cities, and returns a route implementing\n",
    "    the NN algorithm\"\"\"\n",
    "    cities = cities[::] # Make copy of cities\n",
    "    start = city\n",
    "    route = [start]\n",
    "    cities.remove(start)\n",
    "    \n",
    "    for number_of_cities in range(len(cities)):\n",
    "        closest = closest_city(route[-1], cities)\n",
    "        route.append(closest)\n",
    "        cities.remove(closest)\n",
    "    \n",
    "    return route\n",
    "\n",
    "\n",
    "def closest_city(city, cities): \n",
    "    \"\"\"Returns the closest city in a set of cities.\"\"\"\n",
    "    return min(cities, key=lambda x: distance(x, city))\n",
    "\n",
    "\n",
    "def labeled_plot(route):\n",
    "    \"\"\"Given a route, plots the route end to end.\"\"\"\n",
    "    for i, city in enumerate(route):\n",
    "        plt.text(X(city), Y(city), '  {}'.format(str(i)))\n",
    "    plot_lines(list(route)+[route[0]])"
   ]
  },
  {
   "cell_type": "markdown",
   "metadata": {},
   "source": [
    "Let's test our new *intersect* method with the lines we know intersect from our 25 cities set."
   ]
  },
  {
   "cell_type": "code",
   "execution_count": 5,
   "metadata": {
    "collapsed": false
   },
   "outputs": [],
   "source": [
    "c25 = better_nn(25)"
   ]
  },
  {
   "cell_type": "code",
   "execution_count": 6,
   "metadata": {
    "collapsed": false
   },
   "outputs": [
    {
     "data": {
      "text/plain": [
       "True"
      ]
     },
     "execution_count": 6,
     "metadata": {},
     "output_type": "execute_result"
    }
   ],
   "source": [
    "intersect(c25[20:22], c25[18:20])"
   ]
  },
  {
   "cell_type": "markdown",
   "metadata": {},
   "source": [
    "Let's also make sure it doesn't flag lines we know don't intersect."
   ]
  },
  {
   "cell_type": "code",
   "execution_count": 7,
   "metadata": {
    "collapsed": false
   },
   "outputs": [
    {
     "data": {
      "text/plain": [
       "False"
      ]
     },
     "execution_count": 7,
     "metadata": {},
     "output_type": "execute_result"
    }
   ],
   "source": [
    "intersect(c25[20:22], c25[6:8])"
   ]
  },
  {
   "cell_type": "markdown",
   "metadata": {},
   "source": [
    "Great! Now let's create our 2-opt algorithm."
   ]
  },
  {
   "cell_type": "code",
   "execution_count": 8,
   "metadata": {
    "collapsed": false
   },
   "outputs": [],
   "source": [
    "def two_opt(n, t=10,seed=1000):\n",
    "    \"\"\"Creates a set of cities and finds a solution to TSP by first using\n",
    "    a greedy algorithm. Then identifies if there are any crossed lines in\n",
    "    the solution set. If there are, it removes those lines from the\n",
    "    solution and attempts to replace them with non-crossed lines.\"\"\"\n",
    "    cities = better_nn(0, make_cities(n), seed)[::]\n",
    "    attempts = 0\n",
    "    while crossed(cities):\n",
    "        new_cities = uncross(cities)\n",
    "        if new_cities == cities:\n",
    "            attempts += 1\n",
    "        else: attempts = 0\n",
    "        cities = new_cities\n",
    "        if attempts >= t: break\n",
    "    return cities"
   ]
  },
  {
   "cell_type": "markdown",
   "metadata": {},
   "source": [
    "Here is the approach I took to uncross segments using the 2-opt algorithm:\n",
    "\n",
    "1. Find a solution for the cities set using the *better_nn* algorithm\n",
    "2. Find any crossed line segments\n",
    "3. For each crossed line segment pair, re-order the points in the pair to uncross.\n",
    "4. Keep the solution if it results in a shorter *route_length*, otherwise revert back to the original\n",
    "5. Repeat steps 2-4 until all segments are uncrossed, or until we have run the algorithm *t* times consecutively without returning a more optimal solution"
   ]
  },
  {
   "cell_type": "code",
   "execution_count": 9,
   "metadata": {
    "collapsed": true
   },
   "outputs": [],
   "source": [
    "def all_segments(cities):\n",
    "    return [[cities[i], cities[i-1]]\n",
    "            for i, _ in enumerate(cities)]\n",
    "\n",
    "\n",
    "def crossed(route):\n",
    "    \"\"\"Returns the pairs of segments in a route that are crossed.\"\"\"\n",
    "    segments = all_segments(route)\n",
    "    return [(s1, s2)\n",
    "            for s1 in segments\n",
    "            for s2 in segments\n",
    "            if id(s1) > id(s2)\n",
    "            and intersect(s1, s2)]\n",
    "\n",
    "\n",
    "def switch_order(cities, seg1, seg2):\n",
    "    \"\"\"Swaps the order of the two segments in a set of cities, replacing\n",
    "    the second point in :seg1: with the first point in :seg2:.\"\"\"\n",
    "    c = cities[::]\n",
    "    p1, p2, p3, p4 = map(c.index, [seg1[0], seg1[1], seg2[0], seg2[1]])\n",
    "    c[p2], c[p3] = c[p3], c[p2]\n",
    "    return c\n",
    "\n",
    "\n",
    "def uncross(route):\n",
    "    \"\"\"Takes a route of cities and iteratively uncrosses each set of\n",
    "    crossed lines if the resulting set has a shorter :route_length:\"\"\"\n",
    "    crossed_lines = [lines for lines in crossed(route)]\n",
    "    for lines in crossed_lines:\n",
    "        test = switch_order(route[::], *lines)\n",
    "        route = min([test, route], key=route_length)\n",
    "    return route"
   ]
  },
  {
   "cell_type": "code",
   "execution_count": 10,
   "metadata": {
    "collapsed": false
   },
   "outputs": [
    {
     "name": "stdout",
     "output_type": "stream",
     "text": [
      "('Route distance:', 2425.8539208384977)\n",
      "CPU times: user 128 ms, sys: 7.66 ms, total: 136 ms\n",
      "Wall time: 132 ms\n"
     ]
    },
    {
     "data": {
      "image/png": "[encoded data removed]",
      "text/plain": [
       "<matplotlib.figure.Figure at 0x1037c0e10>"
      ]
     },
     "metadata": {},
     "output_type": "display_data"
    }
   ],
   "source": [
    "%time labeled_plot(better_nn(0, make_cities(25)))"
   ]
  },
  {
   "cell_type": "code",
   "execution_count": 11,
   "metadata": {
    "collapsed": false,
    "scrolled": false
   },
   "outputs": [
    {
     "name": "stdout",
     "output_type": "stream",
     "text": [
      "('Route distance:', 2251.461504001219)\n",
      "CPU times: user 168 ms, sys: 35.5 ms, total: 204 ms\n",
      "Wall time: 179 ms\n"
     ]
    },
    {
     "data": {
      "image/png": "[encoded data removed]",
      "text/plain": [
       "<matplotlib.figure.Figure at 0x108c353d0>"
      ]
     },
     "metadata": {},
     "output_type": "display_data"
    }
   ],
   "source": [
    "%time labeled_plot(two_opt(25))"
   ]
  },
  {
   "cell_type": "markdown",
   "metadata": {
    "collapsed": false
   },
   "source": [
    "Much better! We've now uncrossed the two areas (line segments ($\\overline{13-14}$ - $\\overline{15-16}$ and $\\overline{18-19}$ - $\\overline{20-21}$ we identified earlier as having crossed lines."
   ]
  },
  {
   "cell_type": "markdown",
   "metadata": {},
   "source": [
    "Let's test the overall improvement of the 2-opt algorithm over our *better_nn* method."
   ]
  },
  {
   "cell_type": "code",
   "execution_count": 12,
   "metadata": {
    "collapsed": false
   },
   "outputs": [
    {
     "name": "stdout",
     "output_type": "stream",
     "text": [
      "N: Improvement\n"
     ]
    },
    {
     "data": {
      "text/plain": [
       "{2: 0.0,\n",
       " 3: 0.0,\n",
       " 4: 0.0,\n",
       " 5: 0.0,\n",
       " 6: 0.0,\n",
       " 7: 0.0,\n",
       " 8: 0.0,\n",
       " 9: 0.0,\n",
       " 10: 0.0,\n",
       " 11: 0.0,\n",
       " 12: 0.0,\n",
       " 13: 0.029804307840093913,\n",
       " 14: 0.0,\n",
       " 15: 0.02262732387796522,\n",
       " 16: 0.0,\n",
       " 17: 0.015128434972135393,\n",
       " 18: 0.0,\n",
       " 19: 0.0,\n",
       " 20: 0.0,\n",
       " 21: 0.012147554872922328,\n",
       " 22: 0.0010123891260646037,\n",
       " 23: 0.0,\n",
       " 24: 0.01740536685680969,\n",
       " 25: 0.07188908422688511,\n",
       " 26: 0.0,\n",
       " 27: 0.013108752339587732,\n",
       " 28: 0.013004924058764982,\n",
       " 29: 0.018695987808310634,\n",
       " 30: 0.0}"
      ]
     },
     "execution_count": 12,
     "metadata": {},
     "output_type": "execute_result"
    }
   ],
   "source": [
    "print('N: Improvement')\n",
    "{i: (route_length(better_nn(i)) - route_length(two_opt(i)))/route_length(better_nn(i))\n",
    " for i in range(2, 31)}"
   ]
  },
  {
   "cell_type": "markdown",
   "metadata": {
    "collapsed": true
   },
   "source": [
    "Notes:\n",
    "1. It looks like the 2-opt algorithm is more likely to make a difference to our outcome with larger sets of cities. (This makes sense, as we would expect the nearest neighbor algorithm to return more crossed lines as the number of cities increase).\n",
    "2. The improvements are fairly small. It looks like the largest improvement we got was at N=25, where we decreased our route-size by roughly 7%.\n",
    "2. There are still some cases of larger city sets that we were not able to find improvements for."
   ]
  },
  {
   "cell_type": "markdown",
   "metadata": {
    "collapsed": true
   },
   "source": [
    "I have a feelind the last two points are related. Let's dive deeper into one of the examples where we didn't make any improvement using the 2-Opt algorithm."
   ]
  },
  {
   "cell_type": "code",
   "execution_count": 13,
   "metadata": {
    "collapsed": false
   },
   "outputs": [
    {
     "name": "stdout",
     "output_type": "stream",
     "text": [
      "('Route distance:', 2229.5851579348077)\n"
     ]
    },
    {
     "data": {
      "image/png": "[encoded data removed]",
      "text/plain": [
       "<matplotlib.figure.Figure at 0x1092488d0>"
      ]
     },
     "metadata": {},
     "output_type": "display_data"
    }
   ],
   "source": [
    "c26 = two_opt(26)\n",
    "\n",
    "labeled_plot(c26)"
   ]
  },
  {
   "cell_type": "markdown",
   "metadata": {},
   "source": [
    "Interesting... there is an intersection at lines $\\overline{16-17}$ and $\\overline{22-23}$, but our 2-Opt algorithm did not correct this issue. Let's see if we can figure out why by manually emulating the switch we would have expected."
   ]
  },
  {
   "cell_type": "code",
   "execution_count": 14,
   "metadata": {
    "collapsed": false
   },
   "outputs": [],
   "source": [
    "c26[17], c26[22] = c26[22], c26[17]"
   ]
  },
  {
   "cell_type": "code",
   "execution_count": 15,
   "metadata": {
    "collapsed": false
   },
   "outputs": [
    {
     "name": "stdout",
     "output_type": "stream",
     "text": [
      "('Route distance:', 2241.0330397892594)\n"
     ]
    },
    {
     "data": {
      "image/png": "[encoded data removed]",
      "text/plain": [
       "<matplotlib.figure.Figure at 0x1095df810>"
      ]
     },
     "metadata": {},
     "output_type": "display_data"
    }
   ],
   "source": [
    "labeled_plot(c26)"
   ]
  },
  {
   "cell_type": "markdown",
   "metadata": {},
   "source": [
    "Ah! It looks like the uncrossed solution actually results in a route that is longer than the original - a condition we set for our algorithm to prevent it from chasing segment swaps that would result in less optimal solutions. This solution would have failed that condition.\n",
    "\n",
    "One alteration we might want to consider for a future implementation is allowing our algorithm to make a switch to a less optimal state if that switch eventually results in a better solution. Let's continue optimizing this route by uncrossing and see where we end up."
   ]
  },
  {
   "cell_type": "code",
   "execution_count": 16,
   "metadata": {
    "collapsed": false
   },
   "outputs": [],
   "source": [
    "c26[18], c26[22] = c26[22], c26[18]"
   ]
  },
  {
   "cell_type": "code",
   "execution_count": 17,
   "metadata": {
    "collapsed": false
   },
   "outputs": [
    {
     "name": "stdout",
     "output_type": "stream",
     "text": [
      "('Route distance:', 2178.870443898185)\n"
     ]
    },
    {
     "data": {
      "image/png": "[encoded data removed]",
      "text/plain": [
       "<matplotlib.figure.Figure at 0x10a03a950>"
      ]
     },
     "metadata": {},
     "output_type": "display_data"
    }
   ],
   "source": [
    "labeled_plot(c26)"
   ]
  },
  {
   "cell_type": "code",
   "execution_count": 18,
   "metadata": {
    "collapsed": true
   },
   "outputs": [],
   "source": [
    "c26[21], c26[20] = c26[20], c26[21]"
   ]
  },
  {
   "cell_type": "code",
   "execution_count": 19,
   "metadata": {
    "collapsed": false
   },
   "outputs": [
    {
     "name": "stdout",
     "output_type": "stream",
     "text": [
      "('Route distance:', 2174.925871704265)\n"
     ]
    },
    {
     "data": {
      "image/png": "[encoded data removed]",
      "text/plain": [
       "<matplotlib.figure.Figure at 0x10a332a90>"
      ]
     },
     "metadata": {},
     "output_type": "display_data"
    }
   ],
   "source": [
    "labeled_plot(c26)"
   ]
  },
  {
   "cell_type": "code",
   "execution_count": 20,
   "metadata": {
    "collapsed": true
   },
   "outputs": [],
   "source": [
    "c26[19], c26[21] = c26[21], c26[19]"
   ]
  },
  {
   "cell_type": "code",
   "execution_count": 21,
   "metadata": {
    "collapsed": false
   },
   "outputs": [
    {
     "name": "stdout",
     "output_type": "stream",
     "text": [
      "('Route distance:', 2150.9979609137963)\n"
     ]
    },
    {
     "data": {
      "image/png": "[encoded data removed]",
      "text/plain": [
       "<matplotlib.figure.Figure at 0x10a507650>"
      ]
     },
     "metadata": {},
     "output_type": "display_data"
    }
   ],
   "source": [
    "labeled_plot(c26)"
   ]
  },
  {
   "cell_type": "markdown",
   "metadata": {
    "collapsed": true
   },
   "source": [
    "In this case, it took 4 switches after our algorithm would have quit, but we were able to eventually find a more optimal solution with a ~3.5% shorter route length. That may end up being too small of an improvement to justify the added calculating expense, but it may be worth exploring."
   ]
  },
  {
   "cell_type": "code",
   "execution_count": 22,
   "metadata": {
    "collapsed": true
   },
   "outputs": [],
   "source": [
    "def two_opt(n, t=10,seed=1000):\n",
    "    \"\"\"Creates a set of cities and finds a solution to TSP by first using\n",
    "    a greedy algorithm. Then identifies if there are any crossed lines in\n",
    "    the solution set. If there are, it removes those lines from the\n",
    "    solution and attempts to replace them with non-crossed lines.\"\"\"\n",
    "    cities = make_cities(n)\n",
    "    attempts = 0\n",
    "    while crossed(cities):\n",
    "        new_cities = uncross(cities)\n",
    "        if new_cities == cities:\n",
    "            attempts += 1\n",
    "        else: attempts = 0\n",
    "        cities = new_cities\n",
    "        if attempts >= t: break\n",
    "    return cities"
   ]
  },
  {
   "cell_type": "code",
   "execution_count": null,
   "metadata": {
    "collapsed": true
   },
   "outputs": [],
   "source": []
  }
 ],
 "metadata": {
  "kernelspec": {
   "display_name": "Python 2",
   "language": "python",
   "name": "python2"
  },
  "language_info": {
   "codemirror_mode": {
    "name": "ipython",
    "version": 2
   },
   "file_extension": ".py",
   "mimetype": "text/x-python",
   "name": "python",
   "nbconvert_exporter": "python",
   "pygments_lexer": "ipython2",
   "version": "2.7.12"
  }
 },
 "nbformat": 4,
 "nbformat_minor": 0
}
